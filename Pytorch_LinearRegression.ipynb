{
 "cells": [
  {
   "cell_type": "code",
   "execution_count": 1,
   "id": "22cb8da7-b690-4d99-b099-f50d4620e2f5",
   "metadata": {},
   "outputs": [
    {
     "name": "stdout",
     "output_type": "stream",
     "text": [
      "2.4.0\n"
     ]
    }
   ],
   "source": [
    "import torch\n",
    "from torch import nn\n",
    "import matplotlib.pyplot as plt\n",
    "print(torch.__version__)"
   ]
  },
  {
   "cell_type": "markdown",
   "id": "62f7f234-2dd4-4962-ab46-806b1b73d4c0",
   "metadata": {},
   "source": [
    "# Creating a simple Linear Regression model with a known weight and bias"
   ]
  },
  {
   "cell_type": "code",
   "execution_count": 2,
   "id": "69c6828c-24e1-4b79-b4c0-045865433598",
   "metadata": {},
   "outputs": [
    {
     "data": {
      "text/plain": [
       "tensor([0.0000, 0.0020, 0.0040, 0.0060, 0.0080, 0.0100, 0.0120, 0.0140, 0.0160,\n",
       "        0.0180, 0.0200, 0.0220, 0.0240, 0.0260, 0.0280, 0.0300, 0.0320, 0.0340,\n",
       "        0.0360, 0.0380, 0.0400, 0.0420, 0.0440, 0.0460, 0.0480, 0.0500, 0.0520,\n",
       "        0.0540, 0.0560, 0.0580, 0.0600, 0.0620, 0.0640, 0.0660, 0.0680, 0.0700,\n",
       "        0.0720, 0.0740, 0.0760, 0.0780, 0.0800, 0.0820, 0.0840, 0.0860, 0.0880,\n",
       "        0.0900, 0.0920, 0.0940, 0.0960, 0.0980, 0.1000, 0.1020, 0.1040, 0.1060,\n",
       "        0.1080, 0.1100, 0.1120, 0.1140, 0.1160, 0.1180, 0.1200, 0.1220, 0.1240,\n",
       "        0.1260, 0.1280, 0.1300, 0.1320, 0.1340, 0.1360, 0.1380, 0.1400, 0.1420,\n",
       "        0.1440, 0.1460, 0.1480, 0.1500, 0.1520, 0.1540, 0.1560, 0.1580, 0.1600,\n",
       "        0.1620, 0.1640, 0.1660, 0.1680, 0.1700, 0.1720, 0.1740, 0.1760, 0.1780,\n",
       "        0.1800, 0.1820, 0.1840, 0.1860, 0.1880, 0.1900, 0.1920, 0.1940, 0.1960,\n",
       "        0.1980, 0.2000, 0.2020, 0.2040, 0.2060, 0.2080, 0.2100, 0.2120, 0.2140,\n",
       "        0.2160, 0.2180, 0.2200, 0.2220, 0.2240, 0.2260, 0.2280, 0.2300, 0.2320,\n",
       "        0.2340, 0.2360, 0.2380, 0.2400, 0.2420, 0.2440, 0.2460, 0.2480, 0.2500,\n",
       "        0.2520, 0.2540, 0.2560, 0.2580, 0.2600, 0.2620, 0.2640, 0.2660, 0.2680,\n",
       "        0.2700, 0.2720, 0.2740, 0.2760, 0.2780, 0.2800, 0.2820, 0.2840, 0.2860,\n",
       "        0.2880, 0.2900, 0.2920, 0.2940, 0.2960, 0.2980, 0.3000, 0.3020, 0.3040,\n",
       "        0.3060, 0.3080, 0.3100, 0.3120, 0.3140, 0.3160, 0.3180, 0.3200, 0.3220,\n",
       "        0.3240, 0.3260, 0.3280, 0.3300, 0.3320, 0.3340, 0.3360, 0.3380, 0.3400,\n",
       "        0.3420, 0.3440, 0.3460, 0.3480, 0.3500, 0.3520, 0.3540, 0.3560, 0.3580,\n",
       "        0.3600, 0.3620, 0.3640, 0.3660, 0.3680, 0.3700, 0.3720, 0.3740, 0.3760,\n",
       "        0.3780, 0.3800, 0.3820, 0.3840, 0.3860, 0.3880, 0.3900, 0.3920, 0.3940,\n",
       "        0.3960, 0.3980, 0.4000, 0.4020, 0.4040, 0.4060, 0.4080, 0.4100, 0.4120,\n",
       "        0.4140, 0.4160, 0.4180, 0.4200, 0.4220, 0.4240, 0.4260, 0.4280, 0.4300,\n",
       "        0.4320, 0.4340, 0.4360, 0.4380, 0.4400, 0.4420, 0.4440, 0.4460, 0.4480,\n",
       "        0.4500, 0.4520, 0.4540, 0.4560, 0.4580, 0.4600, 0.4620, 0.4640, 0.4660,\n",
       "        0.4680, 0.4700, 0.4720, 0.4740, 0.4760, 0.4780, 0.4800, 0.4820, 0.4840,\n",
       "        0.4860, 0.4880, 0.4900, 0.4920, 0.4940, 0.4960, 0.4980, 0.5000, 0.5020,\n",
       "        0.5040, 0.5060, 0.5080, 0.5100, 0.5120, 0.5140, 0.5160, 0.5180, 0.5200,\n",
       "        0.5220, 0.5240, 0.5260, 0.5280, 0.5300, 0.5320, 0.5340, 0.5360, 0.5380,\n",
       "        0.5400, 0.5420, 0.5440, 0.5460, 0.5480, 0.5500, 0.5520, 0.5540, 0.5560,\n",
       "        0.5580, 0.5600, 0.5620, 0.5640, 0.5660, 0.5680, 0.5700, 0.5720, 0.5740,\n",
       "        0.5760, 0.5780, 0.5800, 0.5820, 0.5840, 0.5860, 0.5880, 0.5900, 0.5920,\n",
       "        0.5940, 0.5960, 0.5980, 0.6000, 0.6020, 0.6040, 0.6060, 0.6080, 0.6100,\n",
       "        0.6120, 0.6140, 0.6160, 0.6180, 0.6200, 0.6220, 0.6240, 0.6260, 0.6280,\n",
       "        0.6300, 0.6320, 0.6340, 0.6360, 0.6380, 0.6400, 0.6420, 0.6440, 0.6460,\n",
       "        0.6480, 0.6500, 0.6520, 0.6540, 0.6560, 0.6580, 0.6600, 0.6620, 0.6640,\n",
       "        0.6660, 0.6680, 0.6700, 0.6720, 0.6740, 0.6760, 0.6780, 0.6800, 0.6820,\n",
       "        0.6840, 0.6860, 0.6880, 0.6900, 0.6920, 0.6940, 0.6960, 0.6980, 0.7000,\n",
       "        0.7020, 0.7040, 0.7060, 0.7080, 0.7100, 0.7120, 0.7140, 0.7160, 0.7180,\n",
       "        0.7200, 0.7220, 0.7240, 0.7260, 0.7280, 0.7300, 0.7320, 0.7340, 0.7360,\n",
       "        0.7380, 0.7400, 0.7420, 0.7440, 0.7460, 0.7480, 0.7500, 0.7520, 0.7540,\n",
       "        0.7560, 0.7580, 0.7600, 0.7620, 0.7640, 0.7660, 0.7680, 0.7700, 0.7720,\n",
       "        0.7740, 0.7760, 0.7780, 0.7800, 0.7820, 0.7840, 0.7860, 0.7880, 0.7900,\n",
       "        0.7920, 0.7940, 0.7960, 0.7980, 0.8000, 0.8020, 0.8040, 0.8060, 0.8080,\n",
       "        0.8100, 0.8120, 0.8140, 0.8160, 0.8180, 0.8200, 0.8220, 0.8240, 0.8260,\n",
       "        0.8280, 0.8300, 0.8320, 0.8340, 0.8360, 0.8380, 0.8400, 0.8420, 0.8440,\n",
       "        0.8460, 0.8480, 0.8500, 0.8520, 0.8540, 0.8560, 0.8580, 0.8600, 0.8620,\n",
       "        0.8640, 0.8660, 0.8680, 0.8700, 0.8720, 0.8740, 0.8760, 0.8780, 0.8800,\n",
       "        0.8820, 0.8840, 0.8860, 0.8880, 0.8900, 0.8920, 0.8940, 0.8960, 0.8980,\n",
       "        0.9000, 0.9020, 0.9040, 0.9060, 0.9080, 0.9100, 0.9120, 0.9140, 0.9160,\n",
       "        0.9180, 0.9200, 0.9220, 0.9240, 0.9260, 0.9280, 0.9300, 0.9320, 0.9340,\n",
       "        0.9360, 0.9380, 0.9400, 0.9420, 0.9440, 0.9460, 0.9480, 0.9500, 0.9520,\n",
       "        0.9540, 0.9560, 0.9580, 0.9600, 0.9620, 0.9640, 0.9660, 0.9680, 0.9700,\n",
       "        0.9720, 0.9740, 0.9760, 0.9780, 0.9800, 0.9820, 0.9840, 0.9860, 0.9880,\n",
       "        0.9900, 0.9920, 0.9940, 0.9960, 0.9980])"
      ]
     },
     "execution_count": 2,
     "metadata": {},
     "output_type": "execute_result"
    }
   ],
   "source": [
    "weight = 0.8\n",
    "\n",
    "bias = 0.2\n",
    "\n",
    "X = torch.arange(0, 1, 0.002)\n",
    "\n",
    "X"
   ]
  },
  {
   "cell_type": "code",
   "execution_count": 3,
   "id": "c598335f-d009-499e-aa3d-0f859ced91ca",
   "metadata": {},
   "outputs": [
    {
     "data": {
      "text/plain": [
       "tensor([[0.0000],\n",
       "        [0.0020],\n",
       "        [0.0040],\n",
       "        [0.0060],\n",
       "        [0.0080],\n",
       "        [0.0100],\n",
       "        [0.0120],\n",
       "        [0.0140],\n",
       "        [0.0160],\n",
       "        [0.0180],\n",
       "        [0.0200],\n",
       "        [0.0220],\n",
       "        [0.0240],\n",
       "        [0.0260],\n",
       "        [0.0280],\n",
       "        [0.0300],\n",
       "        [0.0320],\n",
       "        [0.0340],\n",
       "        [0.0360],\n",
       "        [0.0380],\n",
       "        [0.0400],\n",
       "        [0.0420],\n",
       "        [0.0440],\n",
       "        [0.0460],\n",
       "        [0.0480],\n",
       "        [0.0500],\n",
       "        [0.0520],\n",
       "        [0.0540],\n",
       "        [0.0560],\n",
       "        [0.0580],\n",
       "        [0.0600],\n",
       "        [0.0620],\n",
       "        [0.0640],\n",
       "        [0.0660],\n",
       "        [0.0680],\n",
       "        [0.0700],\n",
       "        [0.0720],\n",
       "        [0.0740],\n",
       "        [0.0760],\n",
       "        [0.0780],\n",
       "        [0.0800],\n",
       "        [0.0820],\n",
       "        [0.0840],\n",
       "        [0.0860],\n",
       "        [0.0880],\n",
       "        [0.0900],\n",
       "        [0.0920],\n",
       "        [0.0940],\n",
       "        [0.0960],\n",
       "        [0.0980],\n",
       "        [0.1000],\n",
       "        [0.1020],\n",
       "        [0.1040],\n",
       "        [0.1060],\n",
       "        [0.1080],\n",
       "        [0.1100],\n",
       "        [0.1120],\n",
       "        [0.1140],\n",
       "        [0.1160],\n",
       "        [0.1180],\n",
       "        [0.1200],\n",
       "        [0.1220],\n",
       "        [0.1240],\n",
       "        [0.1260],\n",
       "        [0.1280],\n",
       "        [0.1300],\n",
       "        [0.1320],\n",
       "        [0.1340],\n",
       "        [0.1360],\n",
       "        [0.1380],\n",
       "        [0.1400],\n",
       "        [0.1420],\n",
       "        [0.1440],\n",
       "        [0.1460],\n",
       "        [0.1480],\n",
       "        [0.1500],\n",
       "        [0.1520],\n",
       "        [0.1540],\n",
       "        [0.1560],\n",
       "        [0.1580],\n",
       "        [0.1600],\n",
       "        [0.1620],\n",
       "        [0.1640],\n",
       "        [0.1660],\n",
       "        [0.1680],\n",
       "        [0.1700],\n",
       "        [0.1720],\n",
       "        [0.1740],\n",
       "        [0.1760],\n",
       "        [0.1780],\n",
       "        [0.1800],\n",
       "        [0.1820],\n",
       "        [0.1840],\n",
       "        [0.1860],\n",
       "        [0.1880],\n",
       "        [0.1900],\n",
       "        [0.1920],\n",
       "        [0.1940],\n",
       "        [0.1960],\n",
       "        [0.1980],\n",
       "        [0.2000],\n",
       "        [0.2020],\n",
       "        [0.2040],\n",
       "        [0.2060],\n",
       "        [0.2080],\n",
       "        [0.2100],\n",
       "        [0.2120],\n",
       "        [0.2140],\n",
       "        [0.2160],\n",
       "        [0.2180],\n",
       "        [0.2200],\n",
       "        [0.2220],\n",
       "        [0.2240],\n",
       "        [0.2260],\n",
       "        [0.2280],\n",
       "        [0.2300],\n",
       "        [0.2320],\n",
       "        [0.2340],\n",
       "        [0.2360],\n",
       "        [0.2380],\n",
       "        [0.2400],\n",
       "        [0.2420],\n",
       "        [0.2440],\n",
       "        [0.2460],\n",
       "        [0.2480],\n",
       "        [0.2500],\n",
       "        [0.2520],\n",
       "        [0.2540],\n",
       "        [0.2560],\n",
       "        [0.2580],\n",
       "        [0.2600],\n",
       "        [0.2620],\n",
       "        [0.2640],\n",
       "        [0.2660],\n",
       "        [0.2680],\n",
       "        [0.2700],\n",
       "        [0.2720],\n",
       "        [0.2740],\n",
       "        [0.2760],\n",
       "        [0.2780],\n",
       "        [0.2800],\n",
       "        [0.2820],\n",
       "        [0.2840],\n",
       "        [0.2860],\n",
       "        [0.2880],\n",
       "        [0.2900],\n",
       "        [0.2920],\n",
       "        [0.2940],\n",
       "        [0.2960],\n",
       "        [0.2980],\n",
       "        [0.3000],\n",
       "        [0.3020],\n",
       "        [0.3040],\n",
       "        [0.3060],\n",
       "        [0.3080],\n",
       "        [0.3100],\n",
       "        [0.3120],\n",
       "        [0.3140],\n",
       "        [0.3160],\n",
       "        [0.3180],\n",
       "        [0.3200],\n",
       "        [0.3220],\n",
       "        [0.3240],\n",
       "        [0.3260],\n",
       "        [0.3280],\n",
       "        [0.3300],\n",
       "        [0.3320],\n",
       "        [0.3340],\n",
       "        [0.3360],\n",
       "        [0.3380],\n",
       "        [0.3400],\n",
       "        [0.3420],\n",
       "        [0.3440],\n",
       "        [0.3460],\n",
       "        [0.3480],\n",
       "        [0.3500],\n",
       "        [0.3520],\n",
       "        [0.3540],\n",
       "        [0.3560],\n",
       "        [0.3580],\n",
       "        [0.3600],\n",
       "        [0.3620],\n",
       "        [0.3640],\n",
       "        [0.3660],\n",
       "        [0.3680],\n",
       "        [0.3700],\n",
       "        [0.3720],\n",
       "        [0.3740],\n",
       "        [0.3760],\n",
       "        [0.3780],\n",
       "        [0.3800],\n",
       "        [0.3820],\n",
       "        [0.3840],\n",
       "        [0.3860],\n",
       "        [0.3880],\n",
       "        [0.3900],\n",
       "        [0.3920],\n",
       "        [0.3940],\n",
       "        [0.3960],\n",
       "        [0.3980],\n",
       "        [0.4000],\n",
       "        [0.4020],\n",
       "        [0.4040],\n",
       "        [0.4060],\n",
       "        [0.4080],\n",
       "        [0.4100],\n",
       "        [0.4120],\n",
       "        [0.4140],\n",
       "        [0.4160],\n",
       "        [0.4180],\n",
       "        [0.4200],\n",
       "        [0.4220],\n",
       "        [0.4240],\n",
       "        [0.4260],\n",
       "        [0.4280],\n",
       "        [0.4300],\n",
       "        [0.4320],\n",
       "        [0.4340],\n",
       "        [0.4360],\n",
       "        [0.4380],\n",
       "        [0.4400],\n",
       "        [0.4420],\n",
       "        [0.4440],\n",
       "        [0.4460],\n",
       "        [0.4480],\n",
       "        [0.4500],\n",
       "        [0.4520],\n",
       "        [0.4540],\n",
       "        [0.4560],\n",
       "        [0.4580],\n",
       "        [0.4600],\n",
       "        [0.4620],\n",
       "        [0.4640],\n",
       "        [0.4660],\n",
       "        [0.4680],\n",
       "        [0.4700],\n",
       "        [0.4720],\n",
       "        [0.4740],\n",
       "        [0.4760],\n",
       "        [0.4780],\n",
       "        [0.4800],\n",
       "        [0.4820],\n",
       "        [0.4840],\n",
       "        [0.4860],\n",
       "        [0.4880],\n",
       "        [0.4900],\n",
       "        [0.4920],\n",
       "        [0.4940],\n",
       "        [0.4960],\n",
       "        [0.4980],\n",
       "        [0.5000],\n",
       "        [0.5020],\n",
       "        [0.5040],\n",
       "        [0.5060],\n",
       "        [0.5080],\n",
       "        [0.5100],\n",
       "        [0.5120],\n",
       "        [0.5140],\n",
       "        [0.5160],\n",
       "        [0.5180],\n",
       "        [0.5200],\n",
       "        [0.5220],\n",
       "        [0.5240],\n",
       "        [0.5260],\n",
       "        [0.5280],\n",
       "        [0.5300],\n",
       "        [0.5320],\n",
       "        [0.5340],\n",
       "        [0.5360],\n",
       "        [0.5380],\n",
       "        [0.5400],\n",
       "        [0.5420],\n",
       "        [0.5440],\n",
       "        [0.5460],\n",
       "        [0.5480],\n",
       "        [0.5500],\n",
       "        [0.5520],\n",
       "        [0.5540],\n",
       "        [0.5560],\n",
       "        [0.5580],\n",
       "        [0.5600],\n",
       "        [0.5620],\n",
       "        [0.5640],\n",
       "        [0.5660],\n",
       "        [0.5680],\n",
       "        [0.5700],\n",
       "        [0.5720],\n",
       "        [0.5740],\n",
       "        [0.5760],\n",
       "        [0.5780],\n",
       "        [0.5800],\n",
       "        [0.5820],\n",
       "        [0.5840],\n",
       "        [0.5860],\n",
       "        [0.5880],\n",
       "        [0.5900],\n",
       "        [0.5920],\n",
       "        [0.5940],\n",
       "        [0.5960],\n",
       "        [0.5980],\n",
       "        [0.6000],\n",
       "        [0.6020],\n",
       "        [0.6040],\n",
       "        [0.6060],\n",
       "        [0.6080],\n",
       "        [0.6100],\n",
       "        [0.6120],\n",
       "        [0.6140],\n",
       "        [0.6160],\n",
       "        [0.6180],\n",
       "        [0.6200],\n",
       "        [0.6220],\n",
       "        [0.6240],\n",
       "        [0.6260],\n",
       "        [0.6280],\n",
       "        [0.6300],\n",
       "        [0.6320],\n",
       "        [0.6340],\n",
       "        [0.6360],\n",
       "        [0.6380],\n",
       "        [0.6400],\n",
       "        [0.6420],\n",
       "        [0.6440],\n",
       "        [0.6460],\n",
       "        [0.6480],\n",
       "        [0.6500],\n",
       "        [0.6520],\n",
       "        [0.6540],\n",
       "        [0.6560],\n",
       "        [0.6580],\n",
       "        [0.6600],\n",
       "        [0.6620],\n",
       "        [0.6640],\n",
       "        [0.6660],\n",
       "        [0.6680],\n",
       "        [0.6700],\n",
       "        [0.6720],\n",
       "        [0.6740],\n",
       "        [0.6760],\n",
       "        [0.6780],\n",
       "        [0.6800],\n",
       "        [0.6820],\n",
       "        [0.6840],\n",
       "        [0.6860],\n",
       "        [0.6880],\n",
       "        [0.6900],\n",
       "        [0.6920],\n",
       "        [0.6940],\n",
       "        [0.6960],\n",
       "        [0.6980],\n",
       "        [0.7000],\n",
       "        [0.7020],\n",
       "        [0.7040],\n",
       "        [0.7060],\n",
       "        [0.7080],\n",
       "        [0.7100],\n",
       "        [0.7120],\n",
       "        [0.7140],\n",
       "        [0.7160],\n",
       "        [0.7180],\n",
       "        [0.7200],\n",
       "        [0.7220],\n",
       "        [0.7240],\n",
       "        [0.7260],\n",
       "        [0.7280],\n",
       "        [0.7300],\n",
       "        [0.7320],\n",
       "        [0.7340],\n",
       "        [0.7360],\n",
       "        [0.7380],\n",
       "        [0.7400],\n",
       "        [0.7420],\n",
       "        [0.7440],\n",
       "        [0.7460],\n",
       "        [0.7480],\n",
       "        [0.7500],\n",
       "        [0.7520],\n",
       "        [0.7540],\n",
       "        [0.7560],\n",
       "        [0.7580],\n",
       "        [0.7600],\n",
       "        [0.7620],\n",
       "        [0.7640],\n",
       "        [0.7660],\n",
       "        [0.7680],\n",
       "        [0.7700],\n",
       "        [0.7720],\n",
       "        [0.7740],\n",
       "        [0.7760],\n",
       "        [0.7780],\n",
       "        [0.7800],\n",
       "        [0.7820],\n",
       "        [0.7840],\n",
       "        [0.7860],\n",
       "        [0.7880],\n",
       "        [0.7900],\n",
       "        [0.7920],\n",
       "        [0.7940],\n",
       "        [0.7960],\n",
       "        [0.7980],\n",
       "        [0.8000],\n",
       "        [0.8020],\n",
       "        [0.8040],\n",
       "        [0.8060],\n",
       "        [0.8080],\n",
       "        [0.8100],\n",
       "        [0.8120],\n",
       "        [0.8140],\n",
       "        [0.8160],\n",
       "        [0.8180],\n",
       "        [0.8200],\n",
       "        [0.8220],\n",
       "        [0.8240],\n",
       "        [0.8260],\n",
       "        [0.8280],\n",
       "        [0.8300],\n",
       "        [0.8320],\n",
       "        [0.8340],\n",
       "        [0.8360],\n",
       "        [0.8380],\n",
       "        [0.8400],\n",
       "        [0.8420],\n",
       "        [0.8440],\n",
       "        [0.8460],\n",
       "        [0.8480],\n",
       "        [0.8500],\n",
       "        [0.8520],\n",
       "        [0.8540],\n",
       "        [0.8560],\n",
       "        [0.8580],\n",
       "        [0.8600],\n",
       "        [0.8620],\n",
       "        [0.8640],\n",
       "        [0.8660],\n",
       "        [0.8680],\n",
       "        [0.8700],\n",
       "        [0.8720],\n",
       "        [0.8740],\n",
       "        [0.8760],\n",
       "        [0.8780],\n",
       "        [0.8800],\n",
       "        [0.8820],\n",
       "        [0.8840],\n",
       "        [0.8860],\n",
       "        [0.8880],\n",
       "        [0.8900],\n",
       "        [0.8920],\n",
       "        [0.8940],\n",
       "        [0.8960],\n",
       "        [0.8980],\n",
       "        [0.9000],\n",
       "        [0.9020],\n",
       "        [0.9040],\n",
       "        [0.9060],\n",
       "        [0.9080],\n",
       "        [0.9100],\n",
       "        [0.9120],\n",
       "        [0.9140],\n",
       "        [0.9160],\n",
       "        [0.9180],\n",
       "        [0.9200],\n",
       "        [0.9220],\n",
       "        [0.9240],\n",
       "        [0.9260],\n",
       "        [0.9280],\n",
       "        [0.9300],\n",
       "        [0.9320],\n",
       "        [0.9340],\n",
       "        [0.9360],\n",
       "        [0.9380],\n",
       "        [0.9400],\n",
       "        [0.9420],\n",
       "        [0.9440],\n",
       "        [0.9460],\n",
       "        [0.9480],\n",
       "        [0.9500],\n",
       "        [0.9520],\n",
       "        [0.9540],\n",
       "        [0.9560],\n",
       "        [0.9580],\n",
       "        [0.9600],\n",
       "        [0.9620],\n",
       "        [0.9640],\n",
       "        [0.9660],\n",
       "        [0.9680],\n",
       "        [0.9700],\n",
       "        [0.9720],\n",
       "        [0.9740],\n",
       "        [0.9760],\n",
       "        [0.9780],\n",
       "        [0.9800],\n",
       "        [0.9820],\n",
       "        [0.9840],\n",
       "        [0.9860],\n",
       "        [0.9880],\n",
       "        [0.9900],\n",
       "        [0.9920],\n",
       "        [0.9940],\n",
       "        [0.9960],\n",
       "        [0.9980]])"
      ]
     },
     "execution_count": 3,
     "metadata": {},
     "output_type": "execute_result"
    }
   ],
   "source": [
    "# Unsqueezing X to add that extra dimenssion\n",
    "X = X.unsqueeze(dim=1)\n",
    "X"
   ]
  },
  {
   "cell_type": "code",
   "execution_count": 4,
   "id": "1858fb4b-366a-4bc4-b417-9d7562bf60dc",
   "metadata": {},
   "outputs": [
    {
     "data": {
      "text/plain": [
       "(tensor([[0.0000],\n",
       "         [0.0020],\n",
       "         [0.0040],\n",
       "         [0.0060],\n",
       "         [0.0080],\n",
       "         [0.0100],\n",
       "         [0.0120],\n",
       "         [0.0140],\n",
       "         [0.0160],\n",
       "         [0.0180]]),\n",
       " tensor([[0.2000],\n",
       "         [0.2016],\n",
       "         [0.2032],\n",
       "         [0.2048],\n",
       "         [0.2064],\n",
       "         [0.2080],\n",
       "         [0.2096],\n",
       "         [0.2112],\n",
       "         [0.2128],\n",
       "         [0.2144]]))"
      ]
     },
     "execution_count": 4,
     "metadata": {},
     "output_type": "execute_result"
    }
   ],
   "source": [
    "# fitring the weights and bias with X\n",
    "y = weight * X + bias\n",
    "X[:10], y[:10]"
   ]
  },
  {
   "cell_type": "code",
   "execution_count": 5,
   "id": "14cb1ec9-ee77-4ebc-ac83-3723db678e62",
   "metadata": {},
   "outputs": [
    {
     "data": {
      "text/plain": [
       "(400, 400, 100, 100)"
      ]
     },
     "execution_count": 5,
     "metadata": {},
     "output_type": "execute_result"
    }
   ],
   "source": [
    "# splitting the data into test and train\n",
    "train_split = int(0.8* len(X))\n",
    "X_train, y_train = X[:train_split], y[:train_split]\n",
    "X_test, y_test = X[train_split:], y[train_split:]\n",
    "len(X_train), len(y_train),len(X_test),len(y_test)"
   ]
  },
  {
   "cell_type": "code",
   "execution_count": 13,
   "id": "0e9af8c7-10c9-4d27-914a-7b0f33f129cb",
   "metadata": {},
   "outputs": [],
   "source": [
    "import matplotlib.pyplot as plt\n",
    "\n",
    "def visualizations(train_data=X_train,\n",
    "                   train_labels=y_train,\n",
    "                   test_data=X_test,\n",
    "                   test_labels=y_test,\n",
    "                   predictions=None):\n",
    "    # Setting the figsize\n",
    "    plt.figure(figsize=(10, 7))\n",
    "    \n",
    "    # Plotting the training data\n",
    "    plt.scatter(train_data, train_labels, c='b', s=4, label='Training data')\n",
    "    \n",
    "    # Plotting the test data\n",
    "    plt.scatter(test_data, test_labels, c='r', s=4, label='Test data')\n",
    "    \n",
    "    # Plotting the predictions, if provided\n",
    "    if predictions is not None:\n",
    "        plt.scatter(test_data, predictions, c='g', s=4, label='Predicted value')\n",
    "    \n",
    "    # Showing the legend\n",
    "    plt.legend()\n",
    "    \n",
    "    # Display the plot\n",
    "    plt.show()\n",
    "\n"
   ]
  },
  {
   "cell_type": "code",
   "execution_count": 14,
   "id": "cb37d1b4-3d12-40e2-a40d-ac319e7d46f0",
   "metadata": {},
   "outputs": [
    {
     "data": {
      "image/png": "[encoded data removed]",
      "text/plain": [
       "<Figure size 1000x700 with 1 Axes>"
      ]
     },
     "metadata": {},
     "output_type": "display_data"
    }
   ],
   "source": [
    "visualizations()"
   ]
  },
  {
   "cell_type": "markdown",
   "id": "62bea2aa-abd7-4bd0-8efe-4d30949a5a00",
   "metadata": {},
   "source": [
    "# Creating a simple pytorch model\n",
    "\n",
    "Steps involves are:\n",
    "1. Starts with a random weight and bias\n",
    "2. create the forward network"
   ]
  },
  {
   "cell_type": "code",
   "execution_count": 15,
   "id": "8589eb0b-2eed-4566-ad61-042d032b3d7f",
   "metadata": {},
   "outputs": [],
   "source": [
    "# Create a linear regression class\n",
    "class LinearRegression(nn.Module):\n",
    "    def __init__(self):\n",
    "        super().__init__()\n",
    "        # Creating a random weight \n",
    "        self.weights = nn.Parameter(torch.randn(1,\n",
    "                              requires_grad = True,\n",
    "                              dtype = torch.float))\n",
    "        # Creating a random bias\n",
    "        self.bias = nn.Parameter(torch.randn(1,\n",
    "                            requires_grad = True,\n",
    "                            dtype = torch.float))\n",
    "    # forward network\n",
    "    def forward (self, x:torch.Tensor) -> torch.Tensor:\n",
    "        return self.weights * x + self.bias\n"
   ]
  },
  {
   "cell_type": "code",
   "execution_count": 16,
   "id": "643d8ab5-026b-48c5-9949-4b6e29f02c78",
   "metadata": {},
   "outputs": [
    {
     "data": {
      "text/plain": [
       "[Parameter containing:\n",
       " tensor([0.3367], requires_grad=True),\n",
       " Parameter containing:\n",
       " tensor([0.1288], requires_grad=True)]"
      ]
     },
     "execution_count": 16,
     "metadata": {},
     "output_type": "execute_result"
    }
   ],
   "source": [
    "torch.manual_seed(42)\n",
    "model = LinearRegression()\n",
    "list(model.parameters())"
   ]
  },
  {
   "cell_type": "code",
   "execution_count": 17,
   "id": "07faf87c-0144-484d-ab5f-edbf1ec35f96",
   "metadata": {},
   "outputs": [
    {
     "data": {
      "text/plain": [
       "OrderedDict([('weights', tensor([0.3367])), ('bias', tensor([0.1288]))])"
      ]
     },
     "execution_count": 17,
     "metadata": {},
     "output_type": "execute_result"
    }
   ],
   "source": [
    "model.state_dict()"
   ]
  },
  {
   "cell_type": "markdown",
   "id": "e36e2265-08a8-41e6-aae3-026d6e849b7b",
   "metadata": {},
   "source": [
    "# Making prediction\n",
    "Use inference mode, it removes the gradients, thereby saving compute and time"
   ]
  },
  {
   "cell_type": "code",
   "execution_count": 18,
   "id": "d0fbd0f6-655b-48ee-bb9d-4b87db7f5adf",
   "metadata": {},
   "outputs": [],
   "source": [
    "with torch.inference_mode():\n",
    "    y_pred = model(X_test)"
   ]
  },
  {
   "cell_type": "markdown",
   "id": "44612ebd-d758-4105-95e7-62f2e2c335ec",
   "metadata": {},
   "source": [
    "# Visualizing predictions"
   ]
  },
  {
   "cell_type": "code",
   "execution_count": 19,
   "id": "6aa8b8a2-e10f-43ba-8a00-c8cfbd6a9281",
   "metadata": {},
   "outputs": [
    {
     "data": {
      "image/png": "[encoded data removed]",
      "text/plain": [
       "<Figure size 1000x700 with 1 Axes>"
      ]
     },
     "metadata": {},
     "output_type": "display_data"
    }
   ],
   "source": [
    "visualizations(predictions=y_pred)"
   ]
  },
  {
   "cell_type": "markdown",
   "id": "652d27e3-b371-4f1e-bed3-1685a7e9ad80",
   "metadata": {},
   "source": [
    "# Turning the model\n",
    "steps\n",
    "1. Set the model to training mode\n",
    "2. Forward pass\n",
    "3. Calculate the loss"
   ]
  },
  {
   "cell_type": "code",
   "execution_count": 20,
   "id": "24dcaaca-d470-40d8-9a87-f46b2c5889da",
   "metadata": {},
   "outputs": [],
   "source": [
    "# Creating a loss function\n",
    "loss_fn = nn.L1Loss()\n",
    "#Creating an optimizer\n",
    "optimizer = torch.optim.SGD(params=model.parameters(),\n",
    "                           lr=0.01)"
   ]
  },
  {
   "cell_type": "code",
   "execution_count": 21,
   "id": "455556f3-381d-4af0-873c-771445641845",
   "metadata": {},
   "outputs": [
    {
     "name": "stdout",
     "output_type": "stream",
     "text": [
      "Epoch: 0 | Loss: 0.25605112314224243 | Test Loss: 0.4741189181804657\n",
      "OrderedDict({'weights': tensor([0.3407]), 'bias': tensor([0.1388])})\n",
      "Epoch: 1 | Loss: 0.2444591373205185 | Test Loss: 0.446944922208786\n",
      "OrderedDict({'weights': tensor([0.3487]), 'bias': tensor([0.1588])})\n",
      "Epoch: 2 | Loss: 0.22127512097358704 | Test Loss: 0.4061839282512665\n",
      "OrderedDict({'weights': tensor([0.3606]), 'bias': tensor([0.1888])})\n",
      "Epoch: 3 | Loss: 0.18649910390377045 | Test Loss: 0.35183584690093994\n",
      "OrderedDict({'weights': tensor([0.3766]), 'bias': tensor([0.2288])})\n",
      "Epoch: 4 | Loss: 0.1426534205675125 | Test Loss: 0.2857043147087097\n",
      "OrderedDict({'weights': tensor([0.3965]), 'bias': tensor([0.2771])})\n",
      "Epoch: 5 | Loss: 0.10253279656171799 | Test Loss: 0.21119572222232819\n",
      "OrderedDict({'weights': tensor([0.4199]), 'bias': tensor([0.3305])})\n",
      "Epoch: 6 | Loss: 0.07748973369598389 | Test Loss: 0.13302215933799744\n",
      "OrderedDict({'weights': tensor([0.4458]), 'bias': tensor([0.3854])})\n"
     ]
    }
   ],
   "source": [
    "torch.manual_seed(42)\n",
    "\n",
    "epochs = 7\n",
    "\n",
    "epoch_count = []\n",
    "loss_values = []\n",
    "test_loss_values = []\n",
    "\n",
    "for epoch in range(epochs):\n",
    "    # Set the model to trainiing mode\n",
    "    model.train()\n",
    "    #Forward pass\n",
    "    y_preds = model(X_train)\n",
    "    # calculate the loss\n",
    "    loss = loss_fn(y_preds, y_train)\n",
    "    #optimize zer0 grad\n",
    "    optimizer.zero_grad\n",
    "    # Backeard propagation\n",
    "    loss.backward()\n",
    "    # step the optimizer\n",
    "    optimizer.step()\n",
    "    #Evaluate the model\n",
    "    model.eval()\n",
    "    with torch.inference_mode():\n",
    "        test_pred = model(X_test)\n",
    "        test_loss = loss_fn(test_pred, y_test)\n",
    "    #if epoch % 10==0:\n",
    "    epoch_count.append(epoch)\n",
    "    loss_values.append(loss)\n",
    "    test_loss_values.append(test_loss)\n",
    "    print(f'Epoch: {epoch} | Loss: {loss} | Test Loss: {test_loss}')\n",
    "    print(model.state_dict())"
   ]
  },
  {
   "cell_type": "code",
   "execution_count": 22,
   "id": "5a93f515-e220-4028-b57d-9ad45484ed67",
   "metadata": {},
   "outputs": [],
   "source": [
    "with torch.inference_mode():\n",
    "    y_preds = model(X_test)"
   ]
  },
  {
   "cell_type": "code",
   "execution_count": 23,
   "id": "1b790a95-9f88-4a27-8813-9963b654687f",
   "metadata": {},
   "outputs": [
    {
     "data": {
      "image/png": "[encoded data removed]",
      "text/plain": [
       "<Figure size 1000x700 with 1 Axes>"
      ]
     },
     "metadata": {},
     "output_type": "display_data"
    }
   ],
   "source": [
    "visualizations(predictions=y_preds)"
   ]
  },
  {
   "cell_type": "code",
   "execution_count": 24,
   "id": "77088445-b408-4419-afae-ea5374898fd8",
   "metadata": {},
   "outputs": [
    {
     "data": {
      "text/plain": [
       "<matplotlib.legend.Legend at 0x1c737d87fe0>"
      ]
     },
     "execution_count": 24,
     "metadata": {},
     "output_type": "execute_result"
    },
    {
     "data": {
      "image/png": "[encoded data removed]",
      "text/plain": [
       "<Figure size 640x480 with 1 Axes>"
      ]
     },
     "metadata": {},
     "output_type": "display_data"
    }
   ],
   "source": [
    "# Ploting the losses\n",
    "import numpy as np\n",
    "training_loss_values = np.array(torch.tensor(loss_values).numpy())\n",
    "testing_loss_values = np.array(torch.tensor(test_loss_values).numpy())\n",
    "\n",
    "plt.plot(epoch_count, training_loss_values, label='Training loss')\n",
    "plt.plot(epoch_count, test_loss_values, label='Test loss')\n",
    "plt.title(\"Training and loss curve\")\n",
    "plt.ylabel(\"Loss\")\n",
    "plt.xlabel(\"Epoch\")\n",
    "plt.legend()"
   ]
  },
  {
   "cell_type": "markdown",
   "id": "4df56f5f-7a54-4a27-9b02-b431ac487b00",
   "metadata": {},
   "source": [
    "# Saving the model"
   ]
  },
  {
   "cell_type": "code",
   "execution_count": 25,
   "id": "d942096f-468f-43b1-81f0-a62c9f5a9027",
   "metadata": {},
   "outputs": [
    {
     "name": "stdout",
     "output_type": "stream",
     "text": [
      "Saving model to: models\\01_pytorch_workflow_model_0.pth\n"
     ]
    }
   ],
   "source": [
    "# Saving our PyTorch model\n",
    "from pathlib import Path\n",
    "\n",
    "# 1. Create models directory \n",
    "MODEL_PATH = Path(\"models\")\n",
    "MODEL_PATH.mkdir(parents=True, exist_ok=True)\n",
    "\n",
    "# 2. Create model save path\n",
    "MODEL_NAME = \"01_pytorch_workflow_model_0.pth\"\n",
    "MODEL_SAVE_PATH = MODEL_PATH / MODEL_NAME\n",
    "\n",
    "# 3. Save the model state dict\n",
    "print(f\"Saving model to: {MODEL_SAVE_PATH}\")\n",
    "torch.save(obj=model.state_dict(),\n",
    "           f=MODEL_SAVE_PATH)"
   ]
  },
  {
   "cell_type": "markdown",
   "id": "a9f5f1fe-a00b-4980-8ef8-25e89ef5b726",
   "metadata": {},
   "source": [
    "# Loading a PyTorch model"
   ]
  },
  {
   "cell_type": "code",
   "execution_count": 26,
   "id": "32b0db14-78ba-40d2-8d1b-771efaf34c6b",
   "metadata": {},
   "outputs": [
    {
     "name": "stderr",
     "output_type": "stream",
     "text": [
      "C:\\Users\\Ire\\AppData\\Local\\Temp\\ipykernel_652\\1000138861.py:5: FutureWarning: You are using `torch.load` with `weights_only=False` (the current default value), which uses the default pickle module implicitly. It is possible to construct malicious pickle data which will execute arbitrary code during unpickling (See https://github.com/pytorch/pytorch/blob/main/SECURITY.md#untrusted-models for more details). In a future release, the default value for `weights_only` will be flipped to `True`. This limits the functions that could be executed during unpickling. Arbitrary objects will no longer be allowed to be loaded via this mode unless they are explicitly allowlisted by the user via `torch.serialization.add_safe_globals`. We recommend you start setting `weights_only=True` for any use case where you don't have full control of the loaded file. Please open an issue on GitHub for any issues related to this experimental feature.\n",
      "  loaded_model.load_state_dict(torch.load(f=MODEL_SAVE_PATH))\n"
     ]
    },
    {
     "data": {
      "text/plain": [
       "<All keys matched successfully>"
      ]
     },
     "execution_count": 26,
     "metadata": {},
     "output_type": "execute_result"
    }
   ],
   "source": [
    "# To load in a saved state_dict we have to instantiate a new instance of our model class\n",
    "loaded_model = LinearRegression()\n",
    "\n",
    "# Load the saved state_dict of model_0 (this will update the new instance with updated parameters)\n",
    "loaded_model.load_state_dict(torch.load(f=MODEL_SAVE_PATH))"
   ]
  },
  {
   "cell_type": "code",
   "execution_count": 27,
   "id": "3f92c6f9-4bb1-4541-8460-dc07d222d0f9",
   "metadata": {},
   "outputs": [
    {
     "data": {
      "text/plain": [
       "tensor([[0.7420],\n",
       "        [0.7429],\n",
       "        [0.7438],\n",
       "        [0.7447],\n",
       "        [0.7456],\n",
       "        [0.7465],\n",
       "        [0.7474],\n",
       "        [0.7483],\n",
       "        [0.7492],\n",
       "        [0.7501]])"
      ]
     },
     "execution_count": 27,
     "metadata": {},
     "output_type": "execute_result"
    }
   ],
   "source": [
    "# Make some predictions with our loaded model\n",
    "loaded_model.eval()\n",
    "with torch.inference_mode():\n",
    "  loaded_model_preds = loaded_model(X_test)\n",
    "\n",
    "loaded_model_preds[:10]"
   ]
  },
  {
   "cell_type": "code",
   "execution_count": 28,
   "id": "76c6071e-f049-43f5-8b36-ace691c7486a",
   "metadata": {},
   "outputs": [
    {
     "data": {
      "text/plain": [
       "tensor([[0.7420],\n",
       "        [0.7429],\n",
       "        [0.7438],\n",
       "        [0.7447],\n",
       "        [0.7456],\n",
       "        [0.7465],\n",
       "        [0.7474],\n",
       "        [0.7483],\n",
       "        [0.7492],\n",
       "        [0.7501]])"
      ]
     },
     "execution_count": 28,
     "metadata": {},
     "output_type": "execute_result"
    }
   ],
   "source": [
    "# Make some models preds\n",
    "model.eval()\n",
    "with torch.inference_mode():\n",
    "  y_preds = model(X_test)\n",
    "\n",
    "y_preds[:10]"
   ]
  },
  {
   "cell_type": "code",
   "execution_count": 29,
   "id": "47f4a2d2-6774-42dd-b067-baef47e9d043",
   "metadata": {},
   "outputs": [
    {
     "data": {
      "text/plain": [
       "tensor([[True],\n",
       "        [True],\n",
       "        [True],\n",
       "        [True],\n",
       "        [True],\n",
       "        [True],\n",
       "        [True],\n",
       "        [True],\n",
       "        [True],\n",
       "        [True]])"
      ]
     },
     "execution_count": 29,
     "metadata": {},
     "output_type": "execute_result"
    }
   ],
   "source": [
    "# Compare loaded model preds with original model preds\n",
    "y_preds[:10] == loaded_model_preds[:10]"
   ]
  },
  {
   "cell_type": "markdown",
   "id": "2251dffe-99ea-4c35-81e7-c28242f30033",
   "metadata": {},
   "source": [
    "# Putting it all together"
   ]
  },
  {
   "cell_type": "code",
   "execution_count": 30,
   "id": "dacc6f40-a341-4ee1-b634-56b4d0d76a8b",
   "metadata": {},
   "outputs": [
    {
     "data": {
      "text/plain": [
       "'2.4.0'"
      ]
     },
     "execution_count": 30,
     "metadata": {},
     "output_type": "execute_result"
    }
   ],
   "source": [
    "# Importing the required libraries\n",
    "import torch\n",
    "from torch import nn\n",
    "import numpy as np\n",
    "import matplotlib.pyplot as plt\n",
    "torch.__version__"
   ]
  },
  {
   "cell_type": "code",
   "execution_count": 31,
   "id": "741111b2-ebed-47f1-9519-666446de67d3",
   "metadata": {},
   "outputs": [
    {
     "name": "stdout",
     "output_type": "stream",
     "text": [
      "Your device is running on cpu\n"
     ]
    }
   ],
   "source": [
    "# setup device agonostic code\n",
    "device = 'cuda' if torch.cuda.is_available() else 'cpu'\n",
    "print(f'Your device is running on {device}')"
   ]
  },
  {
   "cell_type": "markdown",
   "id": "57e56b55-1d11-40fb-aa61-2497178980e1",
   "metadata": {},
   "source": [
    "## Data"
   ]
  },
  {
   "cell_type": "code",
   "execution_count": 32,
   "id": "5cf53a3f-2984-40ea-9c92-0bdd74108450",
   "metadata": {},
   "outputs": [
    {
     "data": {
      "text/plain": [
       "(tensor([[0.0000],\n",
       "         [0.0200],\n",
       "         [0.0400],\n",
       "         [0.0600],\n",
       "         [0.0800],\n",
       "         [0.1000],\n",
       "         [0.1200],\n",
       "         [0.1400],\n",
       "         [0.1600],\n",
       "         [0.1800]]),\n",
       " tensor([[0.3000],\n",
       "         [0.3140],\n",
       "         [0.3280],\n",
       "         [0.3420],\n",
       "         [0.3560],\n",
       "         [0.3700],\n",
       "         [0.3840],\n",
       "         [0.3980],\n",
       "         [0.4120],\n",
       "         [0.4260]]))"
      ]
     },
     "execution_count": 32,
     "metadata": {},
     "output_type": "execute_result"
    }
   ],
   "source": [
    "# Create some data using y= weights *X + bias\n",
    "weights = .70\n",
    "bias = 0.30\n",
    "\n",
    "# Setting a range fpr our data\n",
    "start = 0.\n",
    "end = 1.\n",
    "step = .02\n",
    "\n",
    "# Creating X\n",
    "X = torch.arange(start, end, step).unsqueeze(dim=1)\n",
    "\n",
    "# Create y\n",
    "y = weights * X + bias\n",
    "X[:10], y[:10]"
   ]
  },
  {
   "cell_type": "code",
   "execution_count": 33,
   "id": "3cde24f4-1d4f-44c6-8f12-b0a2298c1121",
   "metadata": {},
   "outputs": [
    {
     "data": {
      "text/plain": [
       "(40, 40, 10, 10)"
      ]
     },
     "execution_count": 33,
     "metadata": {},
     "output_type": "execute_result"
    }
   ],
   "source": [
    "# Split the data\n",
    "train_split = int(0.8 * len(X))\n",
    "X_train, y_train = X[:train_split], y[:train_split]\n",
    "X_test, y_test = X[train_split:], y[train_split:]\n",
    "len(X_train), len(y_train), len(X_test),len(y_test)"
   ]
  },
  {
   "cell_type": "code",
   "execution_count": 34,
   "id": "93f0f0a8-0347-4043-82ed-2d4276b0bc81",
   "metadata": {},
   "outputs": [
    {
     "data": {
      "image/png": "[encoded data removed]",
      "text/plain": [
       "<Figure size 1000x700 with 1 Axes>"
      ]
     },
     "metadata": {},
     "output_type": "display_data"
    }
   ],
   "source": [
    "#ploting the data\n",
    "visualizations(X_train,y_train,X_test,y_test)"
   ]
  },
  {
   "cell_type": "markdown",
   "id": "41a35d21-e11e-414c-8d35-f1292af89bbb",
   "metadata": {},
   "source": [
    "## Building a pytorch Linear Model"
   ]
  },
  {
   "cell_type": "code",
   "execution_count": 35,
   "id": "c4ee9dc4-4f15-4724-bce1-3ceb57be6c60",
   "metadata": {},
   "outputs": [
    {
     "data": {
      "text/plain": [
       "(LinearModel(\n",
       "   (linear_layer): Linear(in_features=1, out_features=1, bias=True)\n",
       " ),\n",
       " OrderedDict([('linear_layer.weight', tensor([[0.7645]])),\n",
       "              ('linear_layer.bias', tensor([0.8300]))]))"
      ]
     },
     "execution_count": 35,
     "metadata": {},
     "output_type": "execute_result"
    }
   ],
   "source": [
    "# Create a linear model by subclassing nn.Module\n",
    "class LinearModel(nn.Module):\n",
    "  def __init__(self):\n",
    "    super().__init__()\n",
    "    # Use nn.Linear() for creating the model parameters / also called: linear transform, probing layer, fully connected layer, dense layer\n",
    "    self.linear_layer = nn.Linear(in_features=1,\n",
    "                                  out_features=1)\n",
    "    \n",
    "  def forward(self, x: torch.Tensor) -> torch.Tensor:\n",
    "    return self.linear_layer(x)\n",
    "\n",
    "# Set the manual seed\n",
    "torch.manual_seed(42)\n",
    "model_1 = LinearModel()\n",
    "model_1, model_1.state_dict()"
   ]
  },
  {
   "cell_type": "code",
   "execution_count": 36,
   "id": "7ff6cfe4-6c8a-424a-867d-35be588383a5",
   "metadata": {},
   "outputs": [
    {
     "data": {
      "text/plain": [
       "device(type='cpu')"
      ]
     },
     "execution_count": 36,
     "metadata": {},
     "output_type": "execute_result"
    }
   ],
   "source": [
    "# Checking the device type\n",
    "next(model_1.parameters()).device"
   ]
  },
  {
   "cell_type": "code",
   "execution_count": 37,
   "id": "49256d4f-e408-4f6e-b930-084db48e1b50",
   "metadata": {},
   "outputs": [
    {
     "data": {
      "text/plain": [
       "device(type='cpu')"
      ]
     },
     "execution_count": 37,
     "metadata": {},
     "output_type": "execute_result"
    }
   ],
   "source": [
    "model_1.to(device)\n",
    "next(model_1.parameters()).device"
   ]
  },
  {
   "cell_type": "markdown",
   "id": "767415c9-befd-4104-af13-878a4ef77742",
   "metadata": {},
   "source": [
    "## Training\n",
    "We need the following:\n",
    "\n",
    "1.Loss function\n",
    "\n",
    "2.Optimizers\n",
    "\n",
    "3.Trainiing Loop\n",
    "\n",
    "4.Testing loop"
   ]
  },
  {
   "cell_type": "code",
   "execution_count": 38,
   "id": "8b27ce52-341d-4efd-8a78-818e5008d8e8",
   "metadata": {},
   "outputs": [
    {
     "name": "stdout",
     "output_type": "stream",
     "text": [
      "Epoch: 0 | Loss: 0.5551779866218567 | Test loss: 0.5739762187004089\n",
      "Epoch: 10 | Loss: 0.4399680495262146 | Test loss: 0.4392663538455963\n",
      "Epoch: 20 | Loss: 0.3247582018375397 | Test loss: 0.30455657839775085\n",
      "Epoch: 30 | Loss: 0.20954827964305878 | Test loss: 0.16984674334526062\n",
      "Epoch: 40 | Loss: 0.09433844685554504 | Test loss: 0.03513689711689949\n",
      "Epoch: 50 | Loss: 0.023886386305093765 | Test loss: 0.04784906655550003\n",
      "Epoch: 60 | Loss: 0.0199567973613739 | Test loss: 0.04580312222242355\n",
      "Epoch: 70 | Loss: 0.016517987474799156 | Test loss: 0.0375305712223053\n",
      "Epoch: 80 | Loss: 0.013089170679450035 | Test loss: 0.029944902285933495\n",
      "Epoch: 90 | Loss: 0.009653178043663502 | Test loss: 0.02167237363755703\n",
      "Epoch: 100 | Loss: 0.006215679459273815 | Test loss: 0.014086711220443249\n",
      "Epoch: 110 | Loss: 0.002787243574857712 | Test loss: 0.005814164876937866\n",
      "Epoch: 120 | Loss: 0.0012645035749301314 | Test loss: 0.013801807537674904\n",
      "Epoch: 130 | Loss: 0.0012645035749301314 | Test loss: 0.013801807537674904\n",
      "Epoch: 140 | Loss: 0.0012645035749301314 | Test loss: 0.013801807537674904\n",
      "Epoch: 150 | Loss: 0.0012645035749301314 | Test loss: 0.013801807537674904\n",
      "Epoch: 160 | Loss: 0.0012645035749301314 | Test loss: 0.013801807537674904\n",
      "Epoch: 170 | Loss: 0.0012645035749301314 | Test loss: 0.013801807537674904\n",
      "Epoch: 180 | Loss: 0.0012645035749301314 | Test loss: 0.013801807537674904\n",
      "Epoch: 190 | Loss: 0.0012645035749301314 | Test loss: 0.013801807537674904\n"
     ]
    }
   ],
   "source": [
    "# 1. Loss function\n",
    "loss_fn = nn.L1Loss() \n",
    "# 2. Optimizers\n",
    "optimizer = torch.optim.SGD(params=model_1.parameters(),\n",
    "                           lr=0.01)\n",
    "# 3. Training loop\n",
    "epochs =200\n",
    "\n",
    "for epoch in range(epochs):\n",
    "    # set the model to traninning mode\n",
    "    model_1.train()\n",
    "    # Forward propagation\n",
    "    y_pred = model_1(X_train)\n",
    "    # loss\n",
    "    loss = loss_fn(y_pred, y_train)\n",
    "    # Optimize the zero grad\n",
    "    optimizer.zero_grad()\n",
    "    # Back propagation\n",
    "    loss.backward()\n",
    "    # Optimizer step\n",
    "    optimizer.step()\n",
    "      ### Testing\n",
    "    model_1.eval()\n",
    "    with torch.inference_mode():\n",
    "        test_pred = model_1(X_test)\n",
    "    \n",
    "        test_loss = loss_fn(test_pred, y_test)\n",
    "\n",
    "    # Print out what's happening\n",
    "    if epoch % 10 == 0: \n",
    "        print(f\"Epoch: {epoch} | Loss: {loss} | Test loss: {test_loss}\")\n"
   ]
  },
  {
   "cell_type": "code",
   "execution_count": 39,
   "id": "2f2c8d19-2cfc-49ed-b6d3-ee60941c511b",
   "metadata": {},
   "outputs": [
    {
     "data": {
      "text/plain": [
       "OrderedDict([('linear_layer.weight', tensor([[0.6968]])),\n",
       "             ('linear_layer.bias', tensor([0.3025]))])"
      ]
     },
     "execution_count": 39,
     "metadata": {},
     "output_type": "execute_result"
    }
   ],
   "source": [
    "model_1.state_dict()"
   ]
  },
  {
   "cell_type": "markdown",
   "id": "cfe93033-b554-473b-99cf-8a287f0c19fb",
   "metadata": {},
   "source": [
    "## Making Predictions"
   ]
  },
  {
   "cell_type": "code",
   "execution_count": 40,
   "id": "9a036957-5d76-430b-9ada-c8ab00a8d194",
   "metadata": {},
   "outputs": [
    {
     "data": {
      "text/plain": [
       "tensor([[0.8600],\n",
       "        [0.8739],\n",
       "        [0.8878],\n",
       "        [0.9018],\n",
       "        [0.9157],\n",
       "        [0.9296],\n",
       "        [0.9436],\n",
       "        [0.9575],\n",
       "        [0.9714],\n",
       "        [0.9854]])"
      ]
     },
     "execution_count": 40,
     "metadata": {},
     "output_type": "execute_result"
    }
   ],
   "source": [
    "# Activate evaluation state\n",
    "model_1.eval()\n",
    "with torch.inference_mode():\n",
    "    y_pred_new = model_1(X_test)\n",
    "y_pred_new"
   ]
  },
  {
   "cell_type": "code",
   "execution_count": 43,
   "id": "c05a538a-d72b-4c56-b944-a8e51a34b710",
   "metadata": {},
   "outputs": [
    {
     "data": {
      "image/png": "[encoded data removed]",
      "text/plain": [
       "<Figure size 1000x700 with 1 Axes>"
      ]
     },
     "metadata": {},
     "output_type": "display_data"
    }
   ],
   "source": [
    "plt.figure(figsize=(10,7))\n",
    "#plotting the train data using a scatter plot\n",
    "plt.scatter(X_train, y_train, c='b', s=4, label='Training data')\n",
    "#plotting the test data using a scatter plot\n",
    "plt.scatter(X_test, y_test, c='r', s=4, label='Test data')\n",
    "plt.scatter(X_test,y_pred_new, c='g',s=4, label='predicted value')\n",
    "plt.legend()\n",
    "plt.show()"
   ]
  },
  {
   "cell_type": "code",
   "execution_count": 44,
   "id": "bee2e8c7-96d2-4252-ba97-b534452f2eee",
   "metadata": {},
   "outputs": [
    {
     "name": "stdout",
     "output_type": "stream",
     "text": [
      "Saving model to: models\\01_pytorch_workflow_model_1.pth\n"
     ]
    }
   ],
   "source": [
    "from pathlib import Path\n",
    "\n",
    "# 1. Create models directory\n",
    "MODEL_PATH = Path(\"models\")\n",
    "MODEL_PATH.mkdir(parents=True, exist_ok=True)\n",
    "\n",
    "# 2. Create model save path\n",
    "MODEL_NAME = \"01_pytorch_workflow_model_1.pth\"\n",
    "MODEL_SAVE_PATH = MODEL_PATH / MODEL_NAME\n",
    "\n",
    "# 3. Save the model state dict\n",
    "print(f\"Saving model to: {MODEL_SAVE_PATH}\")\n",
    "torch.save(obj=model_1.state_dict(),\n",
    "           f=MODEL_SAVE_PATH) "
   ]
  },
  {
   "cell_type": "code",
   "execution_count": null,
   "id": "b2bc7cc3-67ec-4f9f-b308-793a35fc073b",
   "metadata": {},
   "outputs": [],
   "source": [
    "nn."
   ]
  }
 ],
 "metadata": {
  "kernelspec": {
   "display_name": "Python 3 (ipykernel)",
   "language": "python",
   "name": "python3"
  },
  "language_info": {
   "codemirror_mode": {
    "name": "ipython",
    "version": 3
   },
   "file_extension": ".py",
   "mimetype": "text/x-python",
   "name": "python",
   "nbconvert_exporter": "python",
   "pygments_lexer": "ipython3",
   "version": "3.12.4"
  }
 },
 "nbformat": 4,
 "nbformat_minor": 5
}
